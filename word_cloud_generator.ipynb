{
 "cells": [
  {
   "cell_type": "markdown",
   "id": "2a5340f3",
   "metadata": {},
   "source": [
    "# Генератор облака слов"
   ]
  },
  {
   "cell_type": "markdown",
   "id": "5fd82132",
   "metadata": {},
   "source": [
    "Для корректной работы требуется файл xlsx или csv с двумя столбцами с названиями:\n",
    "\n",
    "words — список слов\n",
    "\n",
    "count — число повторений слова в тексте"
   ]
  },
  {
   "cell_type": "markdown",
   "id": "42af6a70",
   "metadata": {},
   "source": [
    "### Импорт библиотек"
   ]
  },
  {
   "cell_type": "markdown",
   "id": "102577da",
   "metadata": {},
   "source": [
    "Если используешь генератор в первый раз, то нужно установить библиотеки ниже (убрать решетки и запустить ячейку):"
   ]
  },
  {
   "cell_type": "code",
   "execution_count": null,
   "id": "44260da7",
   "metadata": {},
   "outputs": [],
   "source": [
    "#!pip install wordcloud \n",
    "\n",
    "#!pip install matplotlib\n",
    "\n",
    "#!pip install pandas"
   ]
  },
  {
   "cell_type": "markdown",
   "id": "f194bd2d",
   "metadata": {},
   "source": [
    "Импортируем:"
   ]
  },
  {
   "cell_type": "code",
   "execution_count": null,
   "id": "5553ee18",
   "metadata": {},
   "outputs": [],
   "source": [
    "from wordcloud import WordCloud\n",
    "\n",
    "import matplotlib.pyplot as plt\n",
    "\n",
    "import pandas as pd"
   ]
  },
  {
   "cell_type": "markdown",
   "id": "a5331ac9",
   "metadata": {},
   "source": [
    "### Подготовка данных"
   ]
  },
  {
   "cell_type": "markdown",
   "id": "bf279512",
   "metadata": {},
   "source": [
    "В ячейку ниже в кавычки внеси название таблицы в формате: Название_таблицы.xlsx (.csv)"
   ]
  },
  {
   "cell_type": "code",
   "execution_count": null,
   "id": "bd6b741a",
   "metadata": {},
   "outputs": [],
   "source": [
    "df_name = 'Название_таблицы.xlsx'"
   ]
  },
  {
   "cell_type": "code",
   "execution_count": 24,
   "id": "50b5aec9",
   "metadata": {},
   "outputs": [],
   "source": [
    "possible_formats = ['xlsx', 'csv']"
   ]
  },
  {
   "cell_type": "markdown",
   "id": "28fb4cdb",
   "metadata": {},
   "source": [
    "! Файл таблицы должен находится в одной папке с файлом кода, иначе он не считается (либо придется прописывать путь к файлу) !"
   ]
  },
  {
   "cell_type": "code",
   "execution_count": 25,
   "id": "c1576f96",
   "metadata": {},
   "outputs": [],
   "source": [
    "if '.' not in df_name or df_name.split('.')[1] not in possible_formats:   #если что-то пошло не так\n",
    "    print('Упс, похоже что-то пошло не так. Алгоритм для такого формата не прописан или есть ошибка в названии файла :(')\n",
    "else:\n",
    "    if df_name.split('.')[1] == 'xlsx':\n",
    "        words_df = pd.read_excel(df_name)\n",
    "    if df_name.split('.')[1] == 'csv':\n",
    "        words_df = pd.read_csv(df_name, sep=';')"
   ]
  },
  {
   "cell_type": "code",
   "execution_count": 26,
   "id": "f8a62f80",
   "metadata": {},
   "outputs": [],
   "source": [
    "words_list = []\n",
    "\n",
    "for i in range(len(words_df['words'])):\n",
    "    one_word = [words_df['words'][i]]\n",
    "    one_word_list = one_word * int(words_df['count'][i])\n",
    "    words_list += one_word_list"
   ]
  },
  {
   "cell_type": "markdown",
   "id": "ffd45371",
   "metadata": {},
   "source": [
    "### Генерация облака (svg)"
   ]
  },
  {
   "cell_type": "markdown",
   "id": "27886377-e564-45ff-9955-ac63ada483fe",
   "metadata": {},
   "source": [
    "В строке ниже можно настроить ширину (cloud_width) и высоту (cloud_height) облака в пикселях. От этого зависит размер шрифта слов, удобно для дизайна в фигме и других графических редакторах"
   ]
  },
  {
   "cell_type": "code",
   "execution_count": 27,
   "id": "5dfa3bfd",
   "metadata": {},
   "outputs": [],
   "source": [
    "cloud_width = 450\n",
    "cloud_height = 300"
   ]
  },
  {
   "cell_type": "code",
   "execution_count": 28,
   "id": "1affae56",
   "metadata": {},
   "outputs": [],
   "source": [
    "wordcloud = WordCloud(background_color = '#FFFFFF', collocations = False, width = cloud_width, height = cloud_height, prefer_horizontal = 1.0, \n",
    "                       color_func = lambda *args, **kwargs: 'black').generate(' '.join(words_list))"
   ]
  },
  {
   "cell_type": "code",
   "execution_count": 29,
   "id": "080857d8",
   "metadata": {},
   "outputs": [],
   "source": [
    "wordcloud_svg = wordcloud.to_svg(embed_font = True)  #конвертируем облако в формат svg"
   ]
  },
  {
   "cell_type": "code",
   "execution_count": null,
   "id": "a9f2b142-4f36-4b0a-8547-675c1f44b7de",
   "metadata": {},
   "outputs": [],
   "source": [
    "#сохраняем облако в файл\n",
    "\n",
    "f = open('word_cloud.svg','w+', encoding = 'UTF-8')\n",
    "f.write(wordcloud_svg)\n",
    "f.close()"
   ]
  },
  {
   "cell_type": "markdown",
   "id": "0902e498",
   "metadata": {},
   "source": [
    "Облако слов в svg готово. Теперь его можно доработать в графическом редакторе: настроить шрифты, цветовую кодировку слов при необходимости, поправить композицию и т.д."
   ]
  },
  {
   "cell_type": "markdown",
   "id": "0f0ba404",
   "metadata": {},
   "source": [
    "# Дополнительные блоки"
   ]
  },
  {
   "cell_type": "markdown",
   "id": "fb864d82",
   "metadata": {},
   "source": [
    "### Визуализация облака"
   ]
  },
  {
   "cell_type": "markdown",
   "id": "418be353",
   "metadata": {},
   "source": [
    "Оставляю этот блок на всякий случай. Он позволяет заранее посмотреть, какое облако мы сохраняем в svg"
   ]
  },
  {
   "cell_type": "code",
   "execution_count": null,
   "id": "30f19d9b",
   "metadata": {},
   "outputs": [],
   "source": [
    "fig, ax = plt.subplots(nrows=1, ncols=1, figsize=(15, 10), dpi=1200)\n",
    "\n",
    "ax.imshow(wordcloud, interpolation='none')\n",
    "ax.axis(\"off\");"
   ]
  },
  {
   "cell_type": "markdown",
   "id": "0252d528",
   "metadata": {},
   "source": [
    "### Костыльная генерация облака в svg"
   ]
  },
  {
   "cell_type": "markdown",
   "id": "d78e1f5d",
   "metadata": {},
   "source": [
    "После запуска ячейки ниже выведется svg облака в формате текста. С текстом нужно совершить несколько манипуляций:\n",
    "\n",
    "1) Вручную создаем пустой txt файл, называем как угодно\n",
    "\n",
    "2) Копируем текстовое отображение svg (без кавычек по краям!!!)\n",
    "\n",
    "3) Вставляем текст в файл txt и сохраняем его\n",
    "\n",
    "4) Меняем расширение файла с txt на svg \n",
    "\n",
    "(кликаем на файл правой кнопкой мыши, нажимаем \"Переименовать\", переписываем часть с расширением после точки)"
   ]
  },
  {
   "cell_type": "code",
   "execution_count": null,
   "id": "3865d430",
   "metadata": {},
   "outputs": [],
   "source": [
    "wordcloud_svg"
   ]
  }
 ],
 "metadata": {
  "kernelspec": {
   "display_name": "base",
   "language": "python",
   "name": "python3"
  },
  "language_info": {
   "codemirror_mode": {
    "name": "ipython",
    "version": 3
   },
   "file_extension": ".py",
   "mimetype": "text/x-python",
   "name": "python",
   "nbconvert_exporter": "python",
   "pygments_lexer": "ipython3",
   "version": "3.12.7"
  }
 },
 "nbformat": 4,
 "nbformat_minor": 5
}
